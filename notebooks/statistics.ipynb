{
 "cells": [
  {
   "cell_type": "markdown",
   "id": "18464ccb-cb7c-4831-8b8f-3fafef4e6179",
   "metadata": {},
   "source": [
    "## **Zillow Housing Data Statistics**"
   ]
  },
  {
   "cell_type": "markdown",
   "id": "832eee5e-ed8b-4206-9eb3-6bce22b5a7d7",
   "metadata": {},
   "source": [
    "### **Data & Dependencies load**"
   ]
  },
  {
   "cell_type": "code",
   "execution_count": 1,
   "id": "d231cf7b-616b-4a61-86aa-25c75c1ed968",
   "metadata": {},
   "outputs": [],
   "source": [
    "import pandas as pd\n",
    "import numpy as np\n",
    "\n",
    "import warnings\n",
    "warnings.filterwarnings('ignore')\n",
    "\n",
    "pd.options.display.max_rows = 100\n",
    "pd.options.display.max_columns = None"
   ]
  },
  {
   "cell_type": "code",
   "execution_count": 2,
   "id": "f4bf4a23-ff60-4c5c-a491-6023e401f772",
   "metadata": {},
   "outputs": [],
   "source": [
    "# Data Load\n",
    "\n",
    "zhvi = pd.read_pickle('../data/zhvi.pkl')\n",
    "zori = pd.read_pickle('../data/zori.pkl')"
   ]
  },
  {
   "cell_type": "code",
   "execution_count": 3,
   "id": "5c581549-483b-4f03-8c14-405fa68bc134",
   "metadata": {},
   "outputs": [],
   "source": [
    "# Add year, month, week number, day number, and day name\n",
    "zhvi['Year'] = zhvi['Date'].dt.year\n",
    "zhvi['Month'] = zhvi['Date'].dt.month\n",
    "zhvi['Week'] = zhvi['Date'].dt.isocalendar().week\n",
    "zhvi['DayNumber'] = zhvi['Date'].dt.day\n",
    "zhvi['DayName'] = zhvi['Date'].dt.day_name()\n",
    "\n",
    "zori['Year'] = zori['Date'].dt.year\n",
    "zori['Month'] = zori['Date'].dt.month\n",
    "zori['Week'] = zori['Date'].dt.isocalendar().week\n",
    "zori['DayNumber'] = zori['Date'].dt.day\n",
    "zori['DayName'] = zori['Date'].dt.day_name()"
   ]
  },
  {
   "cell_type": "code",
   "execution_count": 4,
   "id": "4b6d4591-7e39-4588-bd8c-7dab0b9a835f",
   "metadata": {},
   "outputs": [
    {
     "data": {
      "text/html": [
       "<div>\n",
       "<style scoped>\n",
       "    .dataframe tbody tr th:only-of-type {\n",
       "        vertical-align: middle;\n",
       "    }\n",
       "\n",
       "    .dataframe tbody tr th {\n",
       "        vertical-align: top;\n",
       "    }\n",
       "\n",
       "    .dataframe thead th {\n",
       "        text-align: right;\n",
       "    }\n",
       "</style>\n",
       "<table border=\"1\" class=\"dataframe\">\n",
       "  <thead>\n",
       "    <tr style=\"text-align: right;\">\n",
       "      <th></th>\n",
       "      <th>Region</th>\n",
       "      <th>State</th>\n",
       "      <th>Date</th>\n",
       "      <th>ZHVI</th>\n",
       "      <th>Type</th>\n",
       "      <th>Year</th>\n",
       "      <th>Month</th>\n",
       "      <th>Week</th>\n",
       "      <th>DayNumber</th>\n",
       "      <th>DayName</th>\n",
       "    </tr>\n",
       "  </thead>\n",
       "  <tbody>\n",
       "    <tr>\n",
       "      <th>1</th>\n",
       "      <td>New York, NY</td>\n",
       "      <td>NY</td>\n",
       "      <td>2000-01-31</td>\n",
       "      <td>190767.90</td>\n",
       "      <td>Condo</td>\n",
       "      <td>2000</td>\n",
       "      <td>1</td>\n",
       "      <td>5</td>\n",
       "      <td>31</td>\n",
       "      <td>Monday</td>\n",
       "    </tr>\n",
       "    <tr>\n",
       "      <th>2</th>\n",
       "      <td>Los Angeles, CA</td>\n",
       "      <td>CA</td>\n",
       "      <td>2000-01-31</td>\n",
       "      <td>177240.45</td>\n",
       "      <td>Condo</td>\n",
       "      <td>2000</td>\n",
       "      <td>1</td>\n",
       "      <td>5</td>\n",
       "      <td>31</td>\n",
       "      <td>Monday</td>\n",
       "    </tr>\n",
       "    <tr>\n",
       "      <th>3</th>\n",
       "      <td>Chicago, IL</td>\n",
       "      <td>IL</td>\n",
       "      <td>2000-01-31</td>\n",
       "      <td>126942.50</td>\n",
       "      <td>Condo</td>\n",
       "      <td>2000</td>\n",
       "      <td>1</td>\n",
       "      <td>5</td>\n",
       "      <td>31</td>\n",
       "      <td>Monday</td>\n",
       "    </tr>\n",
       "    <tr>\n",
       "      <th>4</th>\n",
       "      <td>Dallas, TX</td>\n",
       "      <td>TX</td>\n",
       "      <td>2000-01-31</td>\n",
       "      <td>88627.72</td>\n",
       "      <td>Condo</td>\n",
       "      <td>2000</td>\n",
       "      <td>1</td>\n",
       "      <td>5</td>\n",
       "      <td>31</td>\n",
       "      <td>Monday</td>\n",
       "    </tr>\n",
       "    <tr>\n",
       "      <th>5</th>\n",
       "      <td>Houston, TX</td>\n",
       "      <td>TX</td>\n",
       "      <td>2000-01-31</td>\n",
       "      <td>83915.41</td>\n",
       "      <td>Condo</td>\n",
       "      <td>2000</td>\n",
       "      <td>1</td>\n",
       "      <td>5</td>\n",
       "      <td>31</td>\n",
       "      <td>Monday</td>\n",
       "    </tr>\n",
       "  </tbody>\n",
       "</table>\n",
       "</div>"
      ],
      "text/plain": [
       "            Region State       Date       ZHVI   Type  Year  Month  Week  \\\n",
       "1     New York, NY    NY 2000-01-31  190767.90  Condo  2000      1     5   \n",
       "2  Los Angeles, CA    CA 2000-01-31  177240.45  Condo  2000      1     5   \n",
       "3      Chicago, IL    IL 2000-01-31  126942.50  Condo  2000      1     5   \n",
       "4       Dallas, TX    TX 2000-01-31   88627.72  Condo  2000      1     5   \n",
       "5      Houston, TX    TX 2000-01-31   83915.41  Condo  2000      1     5   \n",
       "\n",
       "   DayNumber DayName  \n",
       "1         31  Monday  \n",
       "2         31  Monday  \n",
       "3         31  Monday  \n",
       "4         31  Monday  \n",
       "5         31  Monday  "
      ]
     },
     "execution_count": 4,
     "metadata": {},
     "output_type": "execute_result"
    }
   ],
   "source": [
    "# ZHVI Head\n",
    "zhvi.head()"
   ]
  },
  {
   "cell_type": "code",
   "execution_count": 5,
   "id": "f3e12b1e-55e7-46c3-90f3-64c5310481f5",
   "metadata": {},
   "outputs": [
    {
     "data": {
      "text/html": [
       "<div>\n",
       "<style scoped>\n",
       "    .dataframe tbody tr th:only-of-type {\n",
       "        vertical-align: middle;\n",
       "    }\n",
       "\n",
       "    .dataframe tbody tr th {\n",
       "        vertical-align: top;\n",
       "    }\n",
       "\n",
       "    .dataframe thead th {\n",
       "        text-align: right;\n",
       "    }\n",
       "</style>\n",
       "<table border=\"1\" class=\"dataframe\">\n",
       "  <thead>\n",
       "    <tr style=\"text-align: right;\">\n",
       "      <th></th>\n",
       "      <th>Region</th>\n",
       "      <th>State</th>\n",
       "      <th>Date</th>\n",
       "      <th>ZORI</th>\n",
       "      <th>Type</th>\n",
       "      <th>Year</th>\n",
       "      <th>Month</th>\n",
       "      <th>Week</th>\n",
       "      <th>DayNumber</th>\n",
       "      <th>DayName</th>\n",
       "    </tr>\n",
       "  </thead>\n",
       "  <tbody>\n",
       "    <tr>\n",
       "      <th>1</th>\n",
       "      <td>New York, NY</td>\n",
       "      <td>NY</td>\n",
       "      <td>2015-01-31</td>\n",
       "      <td>2440.70</td>\n",
       "      <td>Single Family</td>\n",
       "      <td>2015</td>\n",
       "      <td>1</td>\n",
       "      <td>5</td>\n",
       "      <td>31</td>\n",
       "      <td>Saturday</td>\n",
       "    </tr>\n",
       "    <tr>\n",
       "      <th>2</th>\n",
       "      <td>Los Angeles, CA</td>\n",
       "      <td>CA</td>\n",
       "      <td>2015-01-31</td>\n",
       "      <td>2577.07</td>\n",
       "      <td>Single Family</td>\n",
       "      <td>2015</td>\n",
       "      <td>1</td>\n",
       "      <td>5</td>\n",
       "      <td>31</td>\n",
       "      <td>Saturday</td>\n",
       "    </tr>\n",
       "    <tr>\n",
       "      <th>3</th>\n",
       "      <td>Chicago, IL</td>\n",
       "      <td>IL</td>\n",
       "      <td>2015-01-31</td>\n",
       "      <td>1527.58</td>\n",
       "      <td>Single Family</td>\n",
       "      <td>2015</td>\n",
       "      <td>1</td>\n",
       "      <td>5</td>\n",
       "      <td>31</td>\n",
       "      <td>Saturday</td>\n",
       "    </tr>\n",
       "    <tr>\n",
       "      <th>4</th>\n",
       "      <td>Dallas, TX</td>\n",
       "      <td>TX</td>\n",
       "      <td>2015-01-31</td>\n",
       "      <td>1372.17</td>\n",
       "      <td>Single Family</td>\n",
       "      <td>2015</td>\n",
       "      <td>1</td>\n",
       "      <td>5</td>\n",
       "      <td>31</td>\n",
       "      <td>Saturday</td>\n",
       "    </tr>\n",
       "    <tr>\n",
       "      <th>5</th>\n",
       "      <td>Houston, TX</td>\n",
       "      <td>TX</td>\n",
       "      <td>2015-01-31</td>\n",
       "      <td>1496.71</td>\n",
       "      <td>Single Family</td>\n",
       "      <td>2015</td>\n",
       "      <td>1</td>\n",
       "      <td>5</td>\n",
       "      <td>31</td>\n",
       "      <td>Saturday</td>\n",
       "    </tr>\n",
       "  </tbody>\n",
       "</table>\n",
       "</div>"
      ],
      "text/plain": [
       "            Region State       Date     ZORI           Type  Year  Month  \\\n",
       "1     New York, NY    NY 2015-01-31  2440.70  Single Family  2015      1   \n",
       "2  Los Angeles, CA    CA 2015-01-31  2577.07  Single Family  2015      1   \n",
       "3      Chicago, IL    IL 2015-01-31  1527.58  Single Family  2015      1   \n",
       "4       Dallas, TX    TX 2015-01-31  1372.17  Single Family  2015      1   \n",
       "5      Houston, TX    TX 2015-01-31  1496.71  Single Family  2015      1   \n",
       "\n",
       "   Week  DayNumber   DayName  \n",
       "1     5         31  Saturday  \n",
       "2     5         31  Saturday  \n",
       "3     5         31  Saturday  \n",
       "4     5         31  Saturday  \n",
       "5     5         31  Saturday  "
      ]
     },
     "execution_count": 5,
     "metadata": {},
     "output_type": "execute_result"
    }
   ],
   "source": [
    "# ZORI Head\n",
    "zori.head()"
   ]
  },
  {
   "cell_type": "code",
   "execution_count": 6,
   "id": "1d4abe7a-b070-4082-8f2e-1466e6f1fb58",
   "metadata": {},
   "outputs": [
    {
     "name": "stdout",
     "output_type": "stream",
     "text": [
      "================== ZHVI ==================\n",
      "\n",
      " ==> Unique values in State column are ['NY' 'CA' 'IL' 'TX' 'VA' 'PA' 'FL' 'GA' 'MA' 'AZ' 'MI' 'WA' 'MN' 'CO'\n",
      " 'MD' 'MO' 'NC' 'OR' 'OH' 'NV' 'TN' 'RI' 'WI' 'OK' 'KY' 'LA' 'UT' 'CT'\n",
      " 'HI' 'NE' 'SC' 'AR' 'IA' 'ME' 'DE' 'AK' 'NJ' 'AL' 'WV' 'KS' 'VT' 'ID'\n",
      " 'NH' 'IN' 'NM' 'WY' 'MT' 'SD' 'MS' 'ND']\n",
      "\n",
      " ==> Unique values in Type column are ['Condo' 'One Bedroom' 'Single Family' 'Two Bedroom' 'Three Bedroom']\n",
      "\n",
      "================== ZORI ==================\n",
      "\n",
      " ==> Unique values in State column are ['NY' 'CA' 'IL' 'TX' 'VA' 'PA' 'FL' 'GA' 'MA' 'AZ' 'MI' 'WA' 'MN' 'CO'\n",
      " 'MD' 'MO' 'NC' 'OR' 'OH' 'NV' 'IN' 'TN' 'RI' 'WI' 'OK' 'KY' 'LA' 'UT'\n",
      " 'CT' 'AL' 'HI' 'NE' 'SC' 'NM' 'ID' 'AR' 'IA' 'KS' 'MS' 'DE' 'AK' 'NJ'\n",
      " 'MT' 'WV' 'SD' 'WY' 'ME' 'NH' 'VT' 'ND']\n",
      "\n",
      " ==> Unique values in Type column are ['Single Family' 'Multi Family']\n",
      "\n"
     ]
    }
   ],
   "source": [
    "# Insights\n",
    "\n",
    "# ZHVI\n",
    "print(\"================== ZHVI ==================\\n\")\n",
    "print(f\" ==> Unique values in State column are {zhvi['State'].unique()}\\n\")\n",
    "print(f\" ==> Unique values in Type column are {zhvi['Type'].unique()}\\n\")\n",
    "\n",
    "# ZORI\n",
    "print(\"================== ZORI ==================\\n\")\n",
    "print(f\" ==> Unique values in State column are {zori['State'].unique()}\\n\")\n",
    "print(f\" ==> Unique values in Type column are {zori['Type'].unique()}\\n\")"
   ]
  },
  {
   "cell_type": "markdown",
   "id": "1e61c3dd-bb87-4fbb-a651-9273ae2cd4a1",
   "metadata": {},
   "source": [
    "### **Exploratory Data Analysis**"
   ]
  },
  {
   "cell_type": "markdown",
   "id": "80f64373-8114-4a01-a81c-d148007c89a1",
   "metadata": {},
   "source": []
  },
  {
   "cell_type": "code",
   "execution_count": null,
   "id": "5c622292-204c-41b6-806a-199e8cbec8c3",
   "metadata": {},
   "outputs": [],
   "source": []
  },
  {
   "cell_type": "code",
   "execution_count": null,
   "id": "cce75593-664e-42d7-8d20-b51957b682ff",
   "metadata": {},
   "outputs": [],
   "source": []
  },
  {
   "cell_type": "code",
   "execution_count": null,
   "id": "6dcc3296-d833-4983-84b0-bc02248d4b02",
   "metadata": {},
   "outputs": [],
   "source": []
  },
  {
   "cell_type": "code",
   "execution_count": null,
   "id": "016e95aa-790c-4ddb-b237-80e9fa962615",
   "metadata": {},
   "outputs": [],
   "source": []
  },
  {
   "cell_type": "code",
   "execution_count": null,
   "id": "97288fe3-5095-4126-b335-250bed15df74",
   "metadata": {},
   "outputs": [],
   "source": []
  },
  {
   "cell_type": "code",
   "execution_count": null,
   "id": "4c74e1e9-24ff-4220-bb82-e6aab71cbf52",
   "metadata": {},
   "outputs": [],
   "source": []
  },
  {
   "cell_type": "code",
   "execution_count": null,
   "id": "a10ad23b-ac68-4392-b2b2-f1d1dd1483e3",
   "metadata": {},
   "outputs": [],
   "source": []
  },
  {
   "cell_type": "code",
   "execution_count": null,
   "id": "61b566d1-2105-4c6e-b16c-f5798335a452",
   "metadata": {},
   "outputs": [],
   "source": []
  },
  {
   "cell_type": "code",
   "execution_count": null,
   "id": "3b1c09b5-94dd-4651-b4c8-b2585adca219",
   "metadata": {},
   "outputs": [],
   "source": []
  },
  {
   "cell_type": "code",
   "execution_count": null,
   "id": "9ec83ad2-389a-48ec-987a-6d38dd6445a9",
   "metadata": {},
   "outputs": [],
   "source": []
  }
 ],
 "metadata": {
  "kernelspec": {
   "display_name": "Python 3 (ipykernel)",
   "language": "python",
   "name": "python3"
  },
  "language_info": {
   "codemirror_mode": {
    "name": "ipython",
    "version": 3
   },
   "file_extension": ".py",
   "mimetype": "text/x-python",
   "name": "python",
   "nbconvert_exporter": "python",
   "pygments_lexer": "ipython3",
   "version": "3.11.1"
  },
  "widgets": {
   "application/vnd.jupyter.widget-state+json": {
    "state": {},
    "version_major": 2,
    "version_minor": 0
   }
  }
 },
 "nbformat": 4,
 "nbformat_minor": 5
}
