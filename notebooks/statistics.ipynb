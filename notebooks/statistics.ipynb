{
 "cells": [
  {
   "cell_type": "markdown",
   "id": "18464ccb-cb7c-4831-8b8f-3fafef4e6179",
   "metadata": {},
   "source": [
    "## **Zillow Housing Data Statistics**"
   ]
  },
  {
   "cell_type": "code",
   "execution_count": 1,
   "id": "d231cf7b-616b-4a61-86aa-25c75c1ed968",
   "metadata": {},
   "outputs": [],
   "source": [
    "import pandas as pd\n",
    "import numpy as np\n",
    "\n",
    "import warnings\n",
    "warnings.filterwarnings('ignore')\n",
    "\n",
    "pd.options.display.max_rows = 100\n",
    "pd.options.display.max_columns = None"
   ]
  },
  {
   "cell_type": "code",
   "execution_count": 4,
   "id": "f4bf4a23-ff60-4c5c-a491-6023e401f772",
   "metadata": {},
   "outputs": [],
   "source": [
    "# Data Load\n",
    "\n",
    "zhvi = pd.read_pickle('../data/zhvi.pkl')\n",
    "zori = pd.read_pickle('../data/zori.pkl')"
   ]
  },
  {
   "cell_type": "code",
   "execution_count": null,
   "id": "4b6d4591-7e39-4588-bd8c-7dab0b9a835f",
   "metadata": {},
   "outputs": [],
   "source": []
  },
  {
   "cell_type": "code",
   "execution_count": null,
   "id": "c61d0658-8265-41a3-be99-94ad19c133a2",
   "metadata": {},
   "outputs": [],
   "source": []
  },
  {
   "cell_type": "code",
   "execution_count": null,
   "id": "5c581549-483b-4f03-8c14-405fa68bc134",
   "metadata": {},
   "outputs": [],
   "source": []
  }
 ],
 "metadata": {
  "kernelspec": {
   "display_name": "Python 3 (ipykernel)",
   "language": "python",
   "name": "python3"
  },
  "language_info": {
   "codemirror_mode": {
    "name": "ipython",
    "version": 3
   },
   "file_extension": ".py",
   "mimetype": "text/x-python",
   "name": "python",
   "nbconvert_exporter": "python",
   "pygments_lexer": "ipython3",
   "version": "3.11.9"
  }
 },
 "nbformat": 4,
 "nbformat_minor": 5
}
