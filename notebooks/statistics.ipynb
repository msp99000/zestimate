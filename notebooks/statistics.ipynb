{
 "cells": [
  {
   "cell_type": "markdown",
   "id": "18464ccb-cb7c-4831-8b8f-3fafef4e6179",
   "metadata": {},
   "source": [
    "## **Zillow Housing Data Statistics**"
   ]
  },
  {
   "cell_type": "markdown",
   "id": "832eee5e-ed8b-4206-9eb3-6bce22b5a7d7",
   "metadata": {},
   "source": [
    "### **Data & Dependencies load**"
   ]
  },
  {
   "cell_type": "code",
   "execution_count": 1,
   "id": "d231cf7b-616b-4a61-86aa-25c75c1ed968",
   "metadata": {},
   "outputs": [],
   "source": [
    "import pandas as pd\n",
    "import numpy as np\n",
    "\n",
    "import warnings\n",
    "warnings.filterwarnings('ignore')\n",
    "\n",
    "pd.options.display.max_rows = 100\n",
    "pd.options.display.max_columns = None"
   ]
  },
  {
   "cell_type": "code",
   "execution_count": 2,
   "id": "f4bf4a23-ff60-4c5c-a491-6023e401f772",
   "metadata": {},
   "outputs": [],
   "source": [
    "# Data Load\n",
    "\n",
    "zhvi = pd.read_pickle('../data/zhvi.pkl')\n",
    "zori = pd.read_pickle('../data/zori.pkl')"
   ]
  },
  {
   "cell_type": "code",
   "execution_count": 3,
   "id": "5c581549-483b-4f03-8c14-405fa68bc134",
   "metadata": {},
   "outputs": [],
   "source": [
    "# Add year, month, week number, day number, and day name\n",
    "zhvi['Year'] = zhvi['Date'].dt.year\n",
    "zhvi['Month'] = zhvi['Date'].dt.month\n",
    "zhvi['Week'] = zhvi['Date'].dt.isocalendar().week\n",
    "zhvi['DayNumber'] = zhvi['Date'].dt.day\n",
    "zhvi['DayName'] = zhvi['Date'].dt.day_name()\n",
    "\n",
    "zori['Year'] = zori['Date'].dt.year\n",
    "zori['Month'] = zori['Date'].dt.month\n",
    "zori['Week'] = zori['Date'].dt.isocalendar().week\n",
    "zori['DayNumber'] = zori['Date'].dt.day\n",
    "zori['DayName'] = zori['Date'].dt.day_name()"
   ]
  },
  {
   "cell_type": "code",
   "execution_count": 4,
   "id": "4b6d4591-7e39-4588-bd8c-7dab0b9a835f",
   "metadata": {},
   "outputs": [
    {
     "data": {
      "text/html": [
       "<div>\n",
       "<style scoped>\n",
       "    .dataframe tbody tr th:only-of-type {\n",
       "        vertical-align: middle;\n",
       "    }\n",
       "\n",
       "    .dataframe tbody tr th {\n",
       "        vertical-align: top;\n",
       "    }\n",
       "\n",
       "    .dataframe thead th {\n",
       "        text-align: right;\n",
       "    }\n",
       "</style>\n",
       "<table border=\"1\" class=\"dataframe\">\n",
       "  <thead>\n",
       "    <tr style=\"text-align: right;\">\n",
       "      <th></th>\n",
       "      <th>Region</th>\n",
       "      <th>State</th>\n",
       "      <th>Date</th>\n",
       "      <th>ZHVI</th>\n",
       "      <th>Type</th>\n",
       "      <th>Year</th>\n",
       "      <th>Month</th>\n",
       "      <th>Week</th>\n",
       "      <th>DayNumber</th>\n",
       "      <th>DayName</th>\n",
       "    </tr>\n",
       "  </thead>\n",
       "  <tbody>\n",
       "    <tr>\n",
       "      <th>1</th>\n",
       "      <td>New York, NY</td>\n",
       "      <td>NY</td>\n",
       "      <td>2000-01-31</td>\n",
       "      <td>190767.90</td>\n",
       "      <td>Condo</td>\n",
       "      <td>2000</td>\n",
       "      <td>1</td>\n",
       "      <td>5</td>\n",
       "      <td>31</td>\n",
       "      <td>Monday</td>\n",
       "    </tr>\n",
       "    <tr>\n",
       "      <th>2</th>\n",
       "      <td>Los Angeles, CA</td>\n",
       "      <td>CA</td>\n",
       "      <td>2000-01-31</td>\n",
       "      <td>177240.45</td>\n",
       "      <td>Condo</td>\n",
       "      <td>2000</td>\n",
       "      <td>1</td>\n",
       "      <td>5</td>\n",
       "      <td>31</td>\n",
       "      <td>Monday</td>\n",
       "    </tr>\n",
       "    <tr>\n",
       "      <th>3</th>\n",
       "      <td>Chicago, IL</td>\n",
       "      <td>IL</td>\n",
       "      <td>2000-01-31</td>\n",
       "      <td>126942.50</td>\n",
       "      <td>Condo</td>\n",
       "      <td>2000</td>\n",
       "      <td>1</td>\n",
       "      <td>5</td>\n",
       "      <td>31</td>\n",
       "      <td>Monday</td>\n",
       "    </tr>\n",
       "    <tr>\n",
       "      <th>4</th>\n",
       "      <td>Dallas, TX</td>\n",
       "      <td>TX</td>\n",
       "      <td>2000-01-31</td>\n",
       "      <td>88627.72</td>\n",
       "      <td>Condo</td>\n",
       "      <td>2000</td>\n",
       "      <td>1</td>\n",
       "      <td>5</td>\n",
       "      <td>31</td>\n",
       "      <td>Monday</td>\n",
       "    </tr>\n",
       "    <tr>\n",
       "      <th>5</th>\n",
       "      <td>Houston, TX</td>\n",
       "      <td>TX</td>\n",
       "      <td>2000-01-31</td>\n",
       "      <td>83915.41</td>\n",
       "      <td>Condo</td>\n",
       "      <td>2000</td>\n",
       "      <td>1</td>\n",
       "      <td>5</td>\n",
       "      <td>31</td>\n",
       "      <td>Monday</td>\n",
       "    </tr>\n",
       "  </tbody>\n",
       "</table>\n",
       "</div>"
      ],
      "text/plain": [
       "            Region State       Date       ZHVI   Type  Year  Month  Week  \\\n",
       "1     New York, NY    NY 2000-01-31  190767.90  Condo  2000      1     5   \n",
       "2  Los Angeles, CA    CA 2000-01-31  177240.45  Condo  2000      1     5   \n",
       "3      Chicago, IL    IL 2000-01-31  126942.50  Condo  2000      1     5   \n",
       "4       Dallas, TX    TX 2000-01-31   88627.72  Condo  2000      1     5   \n",
       "5      Houston, TX    TX 2000-01-31   83915.41  Condo  2000      1     5   \n",
       "\n",
       "   DayNumber DayName  \n",
       "1         31  Monday  \n",
       "2         31  Monday  \n",
       "3         31  Monday  \n",
       "4         31  Monday  \n",
       "5         31  Monday  "
      ]
     },
     "execution_count": 4,
     "metadata": {},
     "output_type": "execute_result"
    }
   ],
   "source": [
    "# ZHVI Head\n",
    "zhvi.head()"
   ]
  },
  {
   "cell_type": "code",
   "execution_count": 5,
   "id": "f3e12b1e-55e7-46c3-90f3-64c5310481f5",
   "metadata": {},
   "outputs": [
    {
     "data": {
      "text/html": [
       "<div>\n",
       "<style scoped>\n",
       "    .dataframe tbody tr th:only-of-type {\n",
       "        vertical-align: middle;\n",
       "    }\n",
       "\n",
       "    .dataframe tbody tr th {\n",
       "        vertical-align: top;\n",
       "    }\n",
       "\n",
       "    .dataframe thead th {\n",
       "        text-align: right;\n",
       "    }\n",
       "</style>\n",
       "<table border=\"1\" class=\"dataframe\">\n",
       "  <thead>\n",
       "    <tr style=\"text-align: right;\">\n",
       "      <th></th>\n",
       "      <th>Region</th>\n",
       "      <th>State</th>\n",
       "      <th>Date</th>\n",
       "      <th>ZORI</th>\n",
       "      <th>Type</th>\n",
       "      <th>Year</th>\n",
       "      <th>Month</th>\n",
       "      <th>Week</th>\n",
       "      <th>DayNumber</th>\n",
       "      <th>DayName</th>\n",
       "    </tr>\n",
       "  </thead>\n",
       "  <tbody>\n",
       "    <tr>\n",
       "      <th>1</th>\n",
       "      <td>New York, NY</td>\n",
       "      <td>NY</td>\n",
       "      <td>2015-01-31</td>\n",
       "      <td>2440.70</td>\n",
       "      <td>Single Family</td>\n",
       "      <td>2015</td>\n",
       "      <td>1</td>\n",
       "      <td>5</td>\n",
       "      <td>31</td>\n",
       "      <td>Saturday</td>\n",
       "    </tr>\n",
       "    <tr>\n",
       "      <th>2</th>\n",
       "      <td>Los Angeles, CA</td>\n",
       "      <td>CA</td>\n",
       "      <td>2015-01-31</td>\n",
       "      <td>2577.07</td>\n",
       "      <td>Single Family</td>\n",
       "      <td>2015</td>\n",
       "      <td>1</td>\n",
       "      <td>5</td>\n",
       "      <td>31</td>\n",
       "      <td>Saturday</td>\n",
       "    </tr>\n",
       "    <tr>\n",
       "      <th>3</th>\n",
       "      <td>Chicago, IL</td>\n",
       "      <td>IL</td>\n",
       "      <td>2015-01-31</td>\n",
       "      <td>1527.58</td>\n",
       "      <td>Single Family</td>\n",
       "      <td>2015</td>\n",
       "      <td>1</td>\n",
       "      <td>5</td>\n",
       "      <td>31</td>\n",
       "      <td>Saturday</td>\n",
       "    </tr>\n",
       "    <tr>\n",
       "      <th>4</th>\n",
       "      <td>Dallas, TX</td>\n",
       "      <td>TX</td>\n",
       "      <td>2015-01-31</td>\n",
       "      <td>1372.17</td>\n",
       "      <td>Single Family</td>\n",
       "      <td>2015</td>\n",
       "      <td>1</td>\n",
       "      <td>5</td>\n",
       "      <td>31</td>\n",
       "      <td>Saturday</td>\n",
       "    </tr>\n",
       "    <tr>\n",
       "      <th>5</th>\n",
       "      <td>Houston, TX</td>\n",
       "      <td>TX</td>\n",
       "      <td>2015-01-31</td>\n",
       "      <td>1496.71</td>\n",
       "      <td>Single Family</td>\n",
       "      <td>2015</td>\n",
       "      <td>1</td>\n",
       "      <td>5</td>\n",
       "      <td>31</td>\n",
       "      <td>Saturday</td>\n",
       "    </tr>\n",
       "  </tbody>\n",
       "</table>\n",
       "</div>"
      ],
      "text/plain": [
       "            Region State       Date     ZORI           Type  Year  Month  \\\n",
       "1     New York, NY    NY 2015-01-31  2440.70  Single Family  2015      1   \n",
       "2  Los Angeles, CA    CA 2015-01-31  2577.07  Single Family  2015      1   \n",
       "3      Chicago, IL    IL 2015-01-31  1527.58  Single Family  2015      1   \n",
       "4       Dallas, TX    TX 2015-01-31  1372.17  Single Family  2015      1   \n",
       "5      Houston, TX    TX 2015-01-31  1496.71  Single Family  2015      1   \n",
       "\n",
       "   Week  DayNumber   DayName  \n",
       "1     5         31  Saturday  \n",
       "2     5         31  Saturday  \n",
       "3     5         31  Saturday  \n",
       "4     5         31  Saturday  \n",
       "5     5         31  Saturday  "
      ]
     },
     "execution_count": 5,
     "metadata": {},
     "output_type": "execute_result"
    }
   ],
   "source": [
    "# ZORI Head\n",
    "zori.head()"
   ]
  },
  {
   "cell_type": "code",
   "execution_count": null,
   "id": "0d8f95d8-3e9f-4db6-bfe1-959f9682a39c",
   "metadata": {},
   "outputs": [],
   "source": []
  },
  {
   "cell_type": "code",
   "execution_count": 6,
   "id": "1d4abe7a-b070-4082-8f2e-1466e6f1fb58",
   "metadata": {},
   "outputs": [
    {
     "name": "stdout",
     "output_type": "stream",
     "text": [
      "================== ZHVI ==================\n",
      "\n",
      " ==> Unique values in State column are ['NY' 'CA' 'IL' 'TX' 'VA' 'PA' 'FL' 'GA' 'MA' 'AZ' 'MI' 'WA' 'MN' 'CO'\n",
      " 'MD' 'MO' 'NC' 'OR' 'OH' 'NV' 'TN' 'RI' 'WI' 'OK' 'KY' 'LA' 'UT' 'CT'\n",
      " 'HI' 'NE' 'SC' 'AR' 'IA' 'ME' 'DE' 'AK' 'NJ' 'AL' 'WV' 'KS' 'VT' 'ID'\n",
      " 'NH' 'IN' 'NM' 'WY' 'MT' 'SD' 'MS' 'ND']\n",
      "\n",
      " ==> Unique values in Type column are ['Condo' 'One Bedroom' 'Single Family' 'Two Bedroom' 'Three Bedroom']\n",
      "\n",
      "================== ZORI ==================\n",
      "\n",
      " ==> Unique values in State column are ['NY' 'CA' 'IL' 'TX' 'VA' 'PA' 'FL' 'GA' 'MA' 'AZ' 'MI' 'WA' 'MN' 'CO'\n",
      " 'MD' 'MO' 'NC' 'OR' 'OH' 'NV' 'IN' 'TN' 'RI' 'WI' 'OK' 'KY' 'LA' 'UT'\n",
      " 'CT' 'AL' 'HI' 'NE' 'SC' 'NM' 'ID' 'AR' 'IA' 'KS' 'MS' 'DE' 'AK' 'NJ'\n",
      " 'MT' 'WV' 'SD' 'WY' 'ME' 'NH' 'VT' 'ND']\n",
      "\n",
      " ==> Unique values in Type column are ['Single Family' 'Multi Family']\n",
      "\n"
     ]
    }
   ],
   "source": [
    "# Insights\n",
    "\n",
    "# ZHVI\n",
    "print(\"================== ZHVI ==================\\n\")\n",
    "print(f\" ==> Unique values in State column are {zhvi['State'].unique()}\\n\")\n",
    "print(f\" ==> Unique values in Type column are {zhvi['Type'].unique()}\\n\")\n",
    "\n",
    "# ZORI\n",
    "print(\"================== ZORI ==================\\n\")\n",
    "print(f\" ==> Unique values in State column are {zori['State'].unique()}\\n\")\n",
    "print(f\" ==> Unique values in Type column are {zori['Type'].unique()}\\n\")"
   ]
  },
  {
   "cell_type": "markdown",
   "id": "1e61c3dd-bb87-4fbb-a651-9273ae2cd4a1",
   "metadata": {},
   "source": [
    "### **Exploratory Data Analysis**"
   ]
  },
  {
   "cell_type": "markdown",
   "id": "d14e93bf-31e9-4a5f-8572-439f8932bc1d",
   "metadata": {},
   "source": [
    "#### **1. Line Plot of ZHVI and ZORI over Time**"
   ]
  },
  {
   "cell_type": "code",
   "execution_count": null,
   "id": "3bbc43c5-3aff-437b-aaa3-fc39d35f1161",
   "metadata": {},
   "outputs": [],
   "source": []
  },
  {
   "cell_type": "code",
   "execution_count": 7,
   "id": "62f01c57-fd17-4b3d-a5f4-f487708e05ff",
   "metadata": {},
   "outputs": [],
   "source": [
    "import plotly.express as px\n",
    "\n",
    "# Line plot for ZHVI\n",
    "# fig_zhvi = px.line(zhvi, x='Date', y='ZHVI', title='ZHVI over Time',\n",
    "#                    labels={'Date': 'Date', 'ZHVI': 'ZHVI Value'}, height=600)\n",
    "# fig_zhvi.update_xaxes(rangeslider_visible=True)\n",
    "# fig_zhvi.update_layout(title_x=0.5, xaxis_title='Date', yaxis_title='ZHVI Value')\n",
    "# fig_zhvi.update_layout(\n",
    "#     margin=dict(l=20, r=20, t=20, b=20),\n",
    "# )\n",
    "# fig_zhvi.show()"
   ]
  },
  {
   "cell_type": "code",
   "execution_count": 8,
   "id": "5694bc5d-abec-43e0-a1c7-d705689deb94",
   "metadata": {},
   "outputs": [],
   "source": [
    "# Line plot for ZORI\n",
    "# fig_zori = px.line(zori, x='Date', y='ZORI', title='ZORI over Time',\n",
    "#                    labels={'Date': 'Date', 'ZORI': 'ZORI Value'}, height=600)\n",
    "# fig_zori.update_xaxes(rangeslider_visible=True)\n",
    "# fig_zori.update_layout(title_x=0.5, xaxis_title='Date', yaxis_title='ZORI Value')\n",
    "# fig_zori.update_layout(\n",
    "#     margin=dict(l=20, r=20, t=20, b=20),\n",
    "# )\n",
    "# fig_zori.show()"
   ]
  },
  {
   "cell_type": "markdown",
   "id": "0857104a-6f0c-4494-9219-fc599871d817",
   "metadata": {},
   "source": [
    "#### **2. Violin Plot of ZHVI and ZORI by State**"
   ]
  },
  {
   "cell_type": "code",
   "execution_count": 9,
   "id": "ff381975-1189-4848-ba34-5898a283b4eb",
   "metadata": {},
   "outputs": [],
   "source": [
    "# Violin plot for ZHVI by State\n",
    "# fig_zhvi_state = px.violin(sample_data_state, x='State', y='ZHVI', title='ZHVI Distribution by State',\n",
    "#                            box=True, points='outliers', height=600)\n",
    "# fig_zhvi_state.update_layout(title_x=0.5, xaxis_title='State', yaxis_title='ZHVI Value')\n",
    "\n",
    "# fig_zhvi_state.update_layout(\n",
    "#     margin=dict(l=20, r=20, t=20, b=20),\n",
    "# )"
   ]
  },
  {
   "cell_type": "code",
   "execution_count": 10,
   "id": "10e3af55-3b0f-4ecc-a80c-6852059a120d",
   "metadata": {},
   "outputs": [],
   "source": [
    "# Violin plot for ZORI by State\n",
    "# fig_zori_state = px.violin(sample_data_state, x='State', y='ZORI', title='ZORI Distribution by State',\n",
    "#                            box=True, points='outliers', height=600)\n",
    "# fig_zori_state.update_layout(title_x=0.5, xaxis_title='State', yaxis_title='ZORI Value')\n",
    "\n",
    "# fig_zori_state.update_layout(\n",
    "#     margin=dict(l=20, r=20, t=20, b=20),\n",
    "# )"
   ]
  },
  {
   "cell_type": "markdown",
   "id": "214b7735-6dc0-4fa5-9096-58083bfc659a",
   "metadata": {},
   "source": [
    "#### **3. Bar Chart of Average ZHVI and ZORI by State**"
   ]
  },
  {
   "cell_type": "code",
   "execution_count": 11,
   "id": "239c5013-4efb-4ba5-a00b-ca58a46a6a11",
   "metadata": {},
   "outputs": [],
   "source": [
    "# Calculate average ZHVI and ZORI by State\n",
    "# avg_zhvi_state = sample_data_state.groupby('State')['ZHVI'].mean().reset_index()\n",
    "# avg_zori_state = sample_data_state.groupby('State')['ZORI'].mean().reset_index()\n",
    "\n",
    "# Bar chart for average ZHVI by State\n",
    "# fig_avg_zhvi_state = px.bar(avg_zhvi_state, x='State', y='ZHVI', title='Average ZHVI by State',\n",
    "#                             height=600)\n",
    "# fig_avg_zhvi_state.update_layout(title_x=0.5, xaxis_title='State', yaxis_title='Average ZHVI Value')"
   ]
  },
  {
   "cell_type": "code",
   "execution_count": 12,
   "id": "b1573701-9c87-4715-bb5c-c8beb66521f2",
   "metadata": {},
   "outputs": [],
   "source": [
    "# Bar chart for average ZORI by State\n",
    "# fig_avg_zori_state = px.bar(avg_zori_state, x='State', y='ZORI', title='Average ZORI by State',\n",
    "#                             height=600)\n",
    "# fig_avg_zori_state.update_layout(title_x=0.5, xaxis_title='State', yaxis_title='Average ZORI Value')"
   ]
  },
  {
   "cell_type": "markdown",
   "id": "53a381c4-27ad-4c59-8ad6-8770d25b1f2c",
   "metadata": {},
   "source": [
    "#### **4. Scatter Plot of ZHVI v/s ZORI**"
   ]
  },
  {
   "cell_type": "code",
   "execution_count": 13,
   "id": "3550fa25-b1d0-45a2-a205-90f7108fb2ab",
   "metadata": {},
   "outputs": [],
   "source": [
    "# Scatter plot of ZHVI vs. ZORI\n",
    "# fig_scatter = px.scatter(sample_data_state, x='ZHVI', y='ZORI', title='ZHVI v/s ZORI',\n",
    "#                          height=600, trendline='ols')\n",
    "\n",
    "# fig_scatter.update_layout(title_x=0.5, xaxis_title='ZHVI Value', yaxis_title='ZORI Value')"
   ]
  },
  {
   "cell_type": "markdown",
   "id": "45e8c4e4-cb4d-45d2-b0b5-32aaf515bb42",
   "metadata": {},
   "source": [
    "#### **5. Box Plot of ZHVI and ZORI by Type**"
   ]
  },
  {
   "cell_type": "code",
   "execution_count": 14,
   "id": "619b1012-f82b-4bd3-a360-0d742e181955",
   "metadata": {},
   "outputs": [],
   "source": [
    "# Box plot for ZHVI by Type\n",
    "# fig_zhvi_type = px.box(zhvi, x='Type', y='ZHVI', title='ZHVI Distribution by Type',\n",
    "#                        height=600)\n",
    "# fig_zhvi_type.update_layout(title_x=0.5, xaxis_title='Type', yaxis_title='ZHVI Value')"
   ]
  },
  {
   "cell_type": "code",
   "execution_count": 15,
   "id": "6d0b9e9c-75d9-45c6-a375-29738b0a0e90",
   "metadata": {},
   "outputs": [],
   "source": [
    "# Box plot for ZORI by Type\n",
    "# fig_zori_type = px.box(zori, x='Type', y='ZORI', title='ZORI Distribution by Type',\n",
    "#                        height=600)\n",
    "# fig_zori_type.update_layout(title_x=0.5, xaxis_title='Type', yaxis_title='ZORI Value')"
   ]
  },
  {
   "cell_type": "markdown",
   "id": "b258e01f-1584-479e-ac8c-80b0d4f204f0",
   "metadata": {},
   "source": [
    "#### **6. Heatmap of Average ZHVI or ZORI by Year and Month**"
   ]
  },
  {
   "cell_type": "code",
   "execution_count": 16,
   "id": "53d8b799-db2a-4de7-a297-e482fa7ce610",
   "metadata": {},
   "outputs": [],
   "source": [
    "# Calculate average ZHVI by Year and Month\n",
    "# avg_zhvi_ym = zhvi.groupby([pd.Grouper(key='Date', freq='M')])['ZHVI'].mean().reset_index()\n",
    "# avg_zhvi_ym['Year'] = avg_zhvi_ym['Date'].dt.year\n",
    "# avg_zhvi_ym['Month'] = avg_zhvi_ym['Date'].dt.month\n",
    "\n",
    "# # Heatmap for average ZHVI by Year and Month\n",
    "# fig_heatmap_zhvi = px.densitity_mapbox(avg_zhvi_ym, z='ZHVI', lat='Year', lon='Month',\n",
    "#                                        radius=10, center=dict(lat=0, lon=180), zoom=0,\n",
    "#                                        mapbox_style='stamen-toner', title='Average ZHVI by Year and Month')\n",
    "# fig_heatmap_zhvi.update_layout(title_x=0.5)"
   ]
  },
  {
   "cell_type": "code",
   "execution_count": null,
   "id": "38aa65ce-93d5-4735-878e-1340bcb9136e",
   "metadata": {},
   "outputs": [],
   "source": []
  },
  {
   "cell_type": "code",
   "execution_count": null,
   "id": "eb0e22ca-a838-4047-b2e0-5927f7d2745f",
   "metadata": {},
   "outputs": [],
   "source": []
  },
  {
   "cell_type": "code",
   "execution_count": null,
   "id": "1a79cd9c-5ea6-41f3-9115-9d1599e854db",
   "metadata": {},
   "outputs": [],
   "source": []
  },
  {
   "cell_type": "code",
   "execution_count": null,
   "id": "02c5313a-8a8d-495d-8b45-9ed1c823e059",
   "metadata": {},
   "outputs": [],
   "source": []
  },
  {
   "cell_type": "code",
   "execution_count": null,
   "id": "42886329-9df8-44ae-a754-c34438a4b166",
   "metadata": {},
   "outputs": [],
   "source": []
  },
  {
   "cell_type": "code",
   "execution_count": null,
   "id": "9ec83ad2-389a-48ec-987a-6d38dd6445a9",
   "metadata": {},
   "outputs": [],
   "source": []
  }
 ],
 "metadata": {
  "kernelspec": {
   "display_name": "Python 3 (ipykernel)",
   "language": "python",
   "name": "python3"
  },
  "language_info": {
   "codemirror_mode": {
    "name": "ipython",
    "version": 3
   },
   "file_extension": ".py",
   "mimetype": "text/x-python",
   "name": "python",
   "nbconvert_exporter": "python",
   "pygments_lexer": "ipython3",
   "version": "3.11.1"
  },
  "widgets": {
   "application/vnd.jupyter.widget-state+json": {
    "state": {},
    "version_major": 2,
    "version_minor": 0
   }
  }
 },
 "nbformat": 4,
 "nbformat_minor": 5
}
