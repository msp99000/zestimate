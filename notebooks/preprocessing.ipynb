{
 "cells": [
  {
   "cell_type": "markdown",
   "id": "a492e406-51e2-407a-b840-0827d8fbea28",
   "metadata": {},
   "source": [
    "## **Zillow Housing Data Preprocessing**"
   ]
  },
  {
   "cell_type": "markdown",
   "id": "3daf2cc6-c229-4381-9648-b567077e8104",
   "metadata": {},
   "source": [
    "#### **Data and Dependencies Load**"
   ]
  },
  {
   "cell_type": "code",
   "execution_count": 1,
   "id": "bbb41306-26e4-4836-ace2-1ef31a68f88e",
   "metadata": {},
   "outputs": [],
   "source": [
    "# Dependencies\n",
    "\n",
    "import pandas as pd\n",
    "import numpy as np\n",
    "\n",
    "import warnings\n",
    "warnings.filterwarnings(\"ignore\")\n",
    "\n",
    "pd.options.display.max_rows = 100\n",
    "pd.options.display.max_columns = None"
   ]
  },
  {
   "cell_type": "code",
   "execution_count": 2,
   "id": "57b72980-3eee-4fda-95ee-ec290f1863f8",
   "metadata": {},
   "outputs": [],
   "source": [
    "# Data Load\n",
    "\n",
    "# ZHVI Data\n",
    "zhvi_condo = pd.read_csv('../data/zhvi_condo.csv')\n",
    "zhvi_single_family = pd.read_csv('../data/zhvi_single_family.csv')\n",
    "zhvi_one_bedroom = pd.read_csv('../data/zhvi_one_bedroom.csv')\n",
    "zhvi_two_bedroom = pd.read_csv('../data/zhvi_two_bedroom.csv')\n",
    "zhvi_three_bedroom = pd.read_csv('../data/zhvi_three_bedroom.csv')\n",
    "\n",
    "# ZORI Data\n",
    "zori_single_family = pd.read_csv('../data/zori_single_family.csv')\n",
    "zori_multi_family = pd.read_csv('../data/zori_multi_family.csv')"
   ]
  },
  {
   "cell_type": "markdown",
   "id": "febe0dc8-6c6a-45be-8d64-9cf1e70e5f82",
   "metadata": {},
   "source": [
    "#### **Data Preprocessing**"
   ]
  },
  {
   "cell_type": "code",
   "execution_count": 3,
   "id": "33d9392f-7027-4c2b-8dc9-5baef513648f",
   "metadata": {},
   "outputs": [],
   "source": [
    "# Function to transform the Time Series data to usable format\n",
    "\n",
    "def time_series_formatter(df, feature:str, house_type:str):\n",
    "    \n",
    "    melted_df = pd.melt(df, id_vars=['RegionID', 'SizeRank', 'RegionName', 'RegionType', 'StateName'], var_name='Date', value_name=feature)\n",
    "    melted_df.drop(columns=['RegionID', 'SizeRank', 'RegionType'], inplace=True)\n",
    "    melted_df.rename(columns={'RegionName':'Region', 'StateName':'State'}, inplace=True)\n",
    "    melted_df.dropna(subset=[feature], inplace=True)\n",
    "    melted_df[feature] = melted_df[feature].round(2)\n",
    "    melted_df['Date'] = pd.to_datetime(melted_df['Date'])\n",
    "    melted_df['Type'] = house_type\n",
    "    \n",
    "    return melted_df"
   ]
  },
  {
   "cell_type": "code",
   "execution_count": 4,
   "id": "dec95651-9518-42db-b3b1-196b7bf48b1d",
   "metadata": {},
   "outputs": [],
   "source": [
    "# Format Time Series Data\n",
    "\n",
    "zhvi_condo = time_series_formatter(zhvi_condo, 'ZHVI', 'Condo')\n",
    "zhvi_single_family = time_series_formatter(zhvi_single_family, 'ZHVI', 'Single Family')\n",
    "zhvi_one_bedroom = time_series_formatter(zhvi_one_bedroom, 'ZHVI', 'One Bedroom')\n",
    "zhvi_two_bedroom = time_series_formatter(zhvi_two_bedroom, 'ZHVI', 'Two Bedroom')\n",
    "zhvi_three_bedroom = time_series_formatter(zhvi_three_bedroom, 'ZHVI', 'Three Bedroom')\n",
    "\n",
    "zori_single_family = time_series_formatter(zori_single_family, 'ZORI', 'Single Family')\n",
    "zori_multi_family = time_series_formatter(zori_multi_family, 'ZORI', 'Multi Family')"
   ]
  },
  {
   "cell_type": "code",
   "execution_count": 5,
   "id": "746bbea3-8af7-4b9d-b4c5-70c5bfc7ad97",
   "metadata": {},
   "outputs": [],
   "source": [
    "# Remove 1st row from each dataframe\n",
    "\n",
    "zhvi_condo = zhvi_condo.iloc[1:]\n",
    "zhvi_single_family = zhvi_single_family.iloc[1:]\n",
    "zhvi_one_bedroom = zhvi_one_bedroom.iloc[1:]\n",
    "zhvi_two_bedroom = zhvi_two_bedroom.iloc[1:]\n",
    "zhvi_three_bedroom = zhvi_three_bedroom.iloc[1:]\n",
    "\n",
    "zori_single_family = zori_single_family.iloc[1:]\n",
    "zori_multi_family = zori_multi_family.iloc[1:]"
   ]
  },
  {
   "cell_type": "code",
   "execution_count": 6,
   "id": "47b250e2-69fc-4a91-8f12-334f3145aa77",
   "metadata": {},
   "outputs": [],
   "source": [
    "# Data clubbing\n",
    "\n",
    "zhvi = pd.concat([zhvi_condo, zhvi_one_bedroom, zhvi_single_family, zhvi_two_bedroom, zhvi_three_bedroom], axis=0)\n",
    "zori = pd.concat([zori_single_family, zori_multi_family], axis=0)"
   ]
  },
  {
   "cell_type": "code",
   "execution_count": 7,
   "id": "90e0a3e4-3207-4500-ab45-32840b540534",
   "metadata": {},
   "outputs": [],
   "source": [
    "# Drop Null values\n",
    "\n",
    "zhvi.dropna(inplace=True)\n",
    "zori.dropna(inplace=True)"
   ]
  },
  {
   "cell_type": "code",
   "execution_count": 8,
   "id": "29a7da41-5c8c-4585-a193-8e674e6d3af4",
   "metadata": {},
   "outputs": [
    {
     "name": "stdout",
     "output_type": "stream",
     "text": [
      "<class 'pandas.core.frame.DataFrame'>\n",
      "Index: 881815 entries, 1 to 257243\n",
      "Data columns (total 5 columns):\n",
      " #   Column  Non-Null Count   Dtype         \n",
      "---  ------  --------------   -----         \n",
      " 0   Region  881815 non-null  object        \n",
      " 1   State   881815 non-null  object        \n",
      " 2   Date    881815 non-null  datetime64[ns]\n",
      " 3   ZHVI    881815 non-null  float64       \n",
      " 4   Type    881815 non-null  object        \n",
      "dtypes: datetime64[ns](1), float64(1), object(3)\n",
      "memory usage: 40.4+ MB\n"
     ]
    }
   ],
   "source": [
    "# ZHVI data info\n",
    "\n",
    "zhvi.info()"
   ]
  },
  {
   "cell_type": "code",
   "execution_count": 9,
   "id": "0f333fa3-e7f8-42a7-b89d-dfeb13966fbc",
   "metadata": {},
   "outputs": [
    {
     "name": "stdout",
     "output_type": "stream",
     "text": [
      "<class 'pandas.core.frame.DataFrame'>\n",
      "Index: 51873 entries, 1 to 55388\n",
      "Data columns (total 5 columns):\n",
      " #   Column  Non-Null Count  Dtype         \n",
      "---  ------  --------------  -----         \n",
      " 0   Region  51873 non-null  object        \n",
      " 1   State   51873 non-null  object        \n",
      " 2   Date    51873 non-null  datetime64[ns]\n",
      " 3   ZORI    51873 non-null  float64       \n",
      " 4   Type    51873 non-null  object        \n",
      "dtypes: datetime64[ns](1), float64(1), object(3)\n",
      "memory usage: 2.4+ MB\n"
     ]
    }
   ],
   "source": [
    "# ZORI data info\n",
    "\n",
    "zori.info()"
   ]
  },
  {
   "cell_type": "code",
   "execution_count": 10,
   "id": "a2ffd008-dbb9-4e5d-b5b2-5992bdfe43d4",
   "metadata": {},
   "outputs": [],
   "source": [
    "# Export data\n",
    "\n",
    "zhvi.to_excel('../data/zhvi.xlsx', index=False)\n",
    "zori.to_excel('../data/zori.xlsx', index=False)\n",
    "\n",
    "zhvi.to_pickle('../data/zhvi.pkl')\n",
    "zori.to_pickle('../data/zori.pkl')"
   ]
  }
 ],
 "metadata": {
  "kernelspec": {
   "display_name": "Python 3 (ipykernel)",
   "language": "python",
   "name": "python3"
  },
  "language_info": {
   "codemirror_mode": {
    "name": "ipython",
    "version": 3
   },
   "file_extension": ".py",
   "mimetype": "text/x-python",
   "name": "python",
   "nbconvert_exporter": "python",
   "pygments_lexer": "ipython3",
   "version": "3.11.1"
  }
 },
 "nbformat": 4,
 "nbformat_minor": 5
}
